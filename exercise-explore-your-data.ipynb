{
 "cells": [
  {
   "cell_type": "markdown",
   "id": "d9f53289",
   "metadata": {
    "papermill": {
     "duration": 0.00253,
     "end_time": "2025-08-06T16:34:04.146104",
     "exception": false,
     "start_time": "2025-08-06T16:34:04.143574",
     "status": "completed"
    },
    "tags": []
   },
   "source": [
    "**[Machine Learning Course Home Page](https://www.kaggle.com/learn/machine-learning)**\n",
    "\n",
    "---\n"
   ]
  },
  {
   "cell_type": "markdown",
   "id": "b201aae7",
   "metadata": {
    "papermill": {
     "duration": 0.001822,
     "end_time": "2025-08-06T16:34:04.150583",
     "exception": false,
     "start_time": "2025-08-06T16:34:04.148761",
     "status": "completed"
    },
    "tags": []
   },
   "source": [
    "This exercise will test your ability to read a data file and understand statistics about the data.\n",
    "\n",
    "In later exercises, you will apply techniques to filter the data, build a machine learning model, and iteratively improve your model.\n",
    "\n",
    "The course examples use data from Melbourne. To ensure you can apply these techniques on your own, you will have to apply them to a new dataset (with house prices from Iowa).\n",
    "\n",
    "The exercises use a \"notebook\" coding environment.  In case you are unfamiliar with notebooks, we have a [90-second intro video](https://www.youtube.com/watch?v=4C2qMnaIKL4).\n",
    "\n",
    "# Exercises\n",
    "\n",
    "Run the following cell to set up code-checking, which will verify your work as you go."
   ]
  },
  {
   "cell_type": "code",
   "execution_count": 1,
   "id": "febcd091",
   "metadata": {
    "collapsed": true,
    "execution": {
     "iopub.execute_input": "2025-08-06T16:34:04.155043Z",
     "iopub.status.busy": "2025-08-06T16:34:04.154767Z",
     "iopub.status.idle": "2025-08-06T16:34:05.766571Z",
     "shell.execute_reply": "2025-08-06T16:34:05.765658Z"
    },
    "jupyter": {
     "outputs_hidden": true
    },
    "papermill": {
     "duration": 1.615607,
     "end_time": "2025-08-06T16:34:05.767992",
     "exception": false,
     "start_time": "2025-08-06T16:34:04.152385",
     "status": "completed"
    },
    "tags": []
   },
   "outputs": [
    {
     "name": "stdout",
     "output_type": "stream",
     "text": [
      "Setup Complete\n"
     ]
    }
   ],
   "source": [
    "# Set up code checking\n",
    "from learntools.core import binder\n",
    "binder.bind(globals())\n",
    "from learntools.machine_learning.ex2 import *\n",
    "print(\"Setup Complete\")"
   ]
  },
  {
   "cell_type": "markdown",
   "id": "52fb0874",
   "metadata": {
    "papermill": {
     "duration": 0.001902,
     "end_time": "2025-08-06T16:34:05.772301",
     "exception": false,
     "start_time": "2025-08-06T16:34:05.770399",
     "status": "completed"
    },
    "tags": []
   },
   "source": [
    "## Step 1: Loading Data\n",
    "Read the Iowa data file into a Pandas DataFrame called `home_data`."
   ]
  },
  {
   "cell_type": "code",
   "execution_count": 2,
   "id": "91f9fced",
   "metadata": {
    "collapsed": true,
    "execution": {
     "iopub.execute_input": "2025-08-06T16:34:05.777377Z",
     "iopub.status.busy": "2025-08-06T16:34:05.776688Z",
     "iopub.status.idle": "2025-08-06T16:34:05.783318Z",
     "shell.execute_reply": "2025-08-06T16:34:05.782642Z"
    },
    "jupyter": {
     "outputs_hidden": true
    },
    "papermill": {
     "duration": 0.010093,
     "end_time": "2025-08-06T16:34:05.784299",
     "exception": false,
     "start_time": "2025-08-06T16:34:05.774206",
     "status": "completed"
    },
    "tags": []
   },
   "outputs": [
    {
     "data": {
      "application/javascript": [
       "parent.postMessage({\"jupyterEvent\": \"custom.exercise_interaction\", \"data\": {\"outcomeType\": 4, \"interactionType\": 1, \"questionType\": 1, \"questionId\": \"1_LoadHomeData\", \"learnToolsVersion\": \"0.3.5\", \"valueTowardsCompletion\": 0.0, \"failureMessage\": \"\", \"exceptionClass\": \"\", \"trace\": \"\"}}, \"*\")"
      ],
      "text/plain": [
       "<IPython.core.display.Javascript object>"
      ]
     },
     "metadata": {},
     "output_type": "display_data"
    },
    {
     "data": {
      "text/markdown": [
       "<span style=\"color:#ccaa33\">Check:</span> When you've updated the starter code, `check()` will tell you whether your code is correct. You need to update the code that creates variable `home_data`"
      ],
      "text/plain": [
       "Check: When you've updated the starter code, `check()` will tell you whether your code is correct. You need to update the code that creates variable `home_data`"
      ]
     },
     "metadata": {},
     "output_type": "display_data"
    }
   ],
   "source": [
    "import pandas as pd\n",
    "\n",
    "# Path of the file to read\n",
    "iowa_file_path = '../input/home-data-for-ml-course/train.csv'\n",
    "\n",
    "# Fill in the line below to read the file into a variable home_data\n",
    "home_data = ____\n",
    "\n",
    "# Call line below with no argument to check that you've loaded the data correctly\n",
    "step_1.check()"
   ]
  },
  {
   "cell_type": "code",
   "execution_count": 3,
   "id": "a9cb03db",
   "metadata": {
    "collapsed": true,
    "execution": {
     "iopub.execute_input": "2025-08-06T16:34:05.789184Z",
     "iopub.status.busy": "2025-08-06T16:34:05.789008Z",
     "iopub.status.idle": "2025-08-06T16:34:05.791902Z",
     "shell.execute_reply": "2025-08-06T16:34:05.791330Z"
    },
    "jupyter": {
     "outputs_hidden": true
    },
    "papermill": {
     "duration": 0.006558,
     "end_time": "2025-08-06T16:34:05.792955",
     "exception": false,
     "start_time": "2025-08-06T16:34:05.786397",
     "status": "completed"
    },
    "tags": []
   },
   "outputs": [],
   "source": [
    "# Lines below will give you a hint or solution code\n",
    "#step_1.hint()\n",
    "#step_1.solution()"
   ]
  },
  {
   "cell_type": "markdown",
   "id": "11b3a186",
   "metadata": {
    "papermill": {
     "duration": 0.00189,
     "end_time": "2025-08-06T16:34:05.796978",
     "exception": false,
     "start_time": "2025-08-06T16:34:05.795088",
     "status": "completed"
    },
    "tags": []
   },
   "source": [
    "## Step 2: Review The Data\n",
    "Use the command you learned to view summary statistics of the data. Then fill in variables to answer the following questions"
   ]
  },
  {
   "cell_type": "code",
   "execution_count": 4,
   "id": "126913fb",
   "metadata": {
    "collapsed": true,
    "execution": {
     "iopub.execute_input": "2025-08-06T16:34:05.801763Z",
     "iopub.status.busy": "2025-08-06T16:34:05.801566Z",
     "iopub.status.idle": "2025-08-06T16:34:05.805749Z",
     "shell.execute_reply": "2025-08-06T16:34:05.805189Z"
    },
    "jupyter": {
     "outputs_hidden": true
    },
    "papermill": {
     "duration": 0.007855,
     "end_time": "2025-08-06T16:34:05.806855",
     "exception": false,
     "start_time": "2025-08-06T16:34:05.799000",
     "status": "completed"
    },
    "tags": []
   },
   "outputs": [
    {
     "data": {
      "text/markdown": [],
      "text/plain": [
       "<learntools.core.constants.PlaceholderValue at 0x7e01d5a87690>"
      ]
     },
     "execution_count": 4,
     "metadata": {},
     "output_type": "execute_result"
    }
   ],
   "source": [
    "# Print summary statistics in next line\n",
    "____"
   ]
  },
  {
   "cell_type": "code",
   "execution_count": 5,
   "id": "c5bdca4a",
   "metadata": {
    "execution": {
     "iopub.execute_input": "2025-08-06T16:34:05.812021Z",
     "iopub.status.busy": "2025-08-06T16:34:05.811814Z",
     "iopub.status.idle": "2025-08-06T16:34:05.816874Z",
     "shell.execute_reply": "2025-08-06T16:34:05.816339Z"
    },
    "papermill": {
     "duration": 0.008906,
     "end_time": "2025-08-06T16:34:05.817983",
     "exception": false,
     "start_time": "2025-08-06T16:34:05.809077",
     "status": "completed"
    },
    "tags": []
   },
   "outputs": [
    {
     "data": {
      "application/javascript": [
       "parent.postMessage({\"jupyterEvent\": \"custom.exercise_interaction\", \"data\": {\"outcomeType\": 4, \"interactionType\": 1, \"questionType\": 1, \"questionId\": \"2_HomeDescription\", \"learnToolsVersion\": \"0.3.5\", \"valueTowardsCompletion\": 0.0, \"failureMessage\": \"\", \"exceptionClass\": \"\", \"trace\": \"\"}}, \"*\")"
      ],
      "text/plain": [
       "<IPython.core.display.Javascript object>"
      ]
     },
     "metadata": {},
     "output_type": "display_data"
    },
    {
     "data": {
      "text/markdown": [
       "<span style=\"color:#ccaa33\">Check:</span> When you've updated the starter code, `check()` will tell you whether your code is correct. You need to update the code that creates variables `avg_lot_size`, `newest_home_age`"
      ],
      "text/plain": [
       "Check: When you've updated the starter code, `check()` will tell you whether your code is correct. You need to update the code that creates variables `avg_lot_size`, `newest_home_age`"
      ]
     },
     "metadata": {},
     "output_type": "display_data"
    }
   ],
   "source": [
    "# What is the average lot size (rounded to nearest integer)?\n",
    "avg_lot_size = ____\n",
    "\n",
    "# As of today, how old is the newest home (current year - the date in which it was built)\n",
    "newest_home_age = ____\n",
    "\n",
    "# Checks your answers\n",
    "step_2.check()"
   ]
  },
  {
   "cell_type": "code",
   "execution_count": 6,
   "id": "26f2c93a",
   "metadata": {
    "collapsed": true,
    "execution": {
     "iopub.execute_input": "2025-08-06T16:34:05.824349Z",
     "iopub.status.busy": "2025-08-06T16:34:05.824065Z",
     "iopub.status.idle": "2025-08-06T16:34:05.826985Z",
     "shell.execute_reply": "2025-08-06T16:34:05.826453Z"
    },
    "jupyter": {
     "outputs_hidden": true
    },
    "papermill": {
     "duration": 0.007717,
     "end_time": "2025-08-06T16:34:05.828082",
     "exception": false,
     "start_time": "2025-08-06T16:34:05.820365",
     "status": "completed"
    },
    "tags": []
   },
   "outputs": [],
   "source": [
    "#step_2.hint()\n",
    "#step_2.solution()"
   ]
  },
  {
   "cell_type": "markdown",
   "id": "33a12697",
   "metadata": {
    "papermill": {
     "duration": 0.002246,
     "end_time": "2025-08-06T16:34:05.832744",
     "exception": false,
     "start_time": "2025-08-06T16:34:05.830498",
     "status": "completed"
    },
    "tags": []
   },
   "source": [
    "## Think About Your Data\n",
    "\n",
    "The newest house in your data isn't that new.  A few potential explanations for this:\n",
    "1. They haven't built new houses where this data was collected.\n",
    "1. The data was collected a long time ago. Houses built after the data publication wouldn't show up.\n",
    "\n",
    "If the reason is explanation #1 above, does that affect your trust in the model you build with this data? What about if it is reason #2?\n",
    "\n",
    "How could you dig into the data to see which explanation is more plausible?\n",
    "\n",
    "Check out this **[discussion thread](https://www.kaggle.com/learn-forum/60581)** to see what others think or to add your ideas.\n",
    "\n",
    "# Keep Going\n",
    "\n",
    "You are ready for **[Your First Machine Learning Model](https://www.kaggle.com/dansbecker/your-first-machine-learning-model).**\n"
   ]
  },
  {
   "cell_type": "markdown",
   "id": "7cc0826b",
   "metadata": {
    "papermill": {
     "duration": 0.002157,
     "end_time": "2025-08-06T16:34:05.837182",
     "exception": false,
     "start_time": "2025-08-06T16:34:05.835025",
     "status": "completed"
    },
    "tags": []
   },
   "source": [
    "---\n",
    "**[Machine Learning Course Home Page](https://www.kaggle.com/learn/machine-learning)**\n",
    "\n"
   ]
  }
 ],
 "metadata": {
  "kaggle": {
   "accelerator": "none",
   "dataSources": [
    {
     "datasetId": 2709,
     "sourceId": 38454,
     "sourceType": "datasetVersion"
    },
    {
     "datasetId": 108980,
     "sourceId": 260251,
     "sourceType": "datasetVersion"
    }
   ],
   "isGpuEnabled": false,
   "isInternetEnabled": false,
   "language": "python",
   "sourceType": "notebook"
  },
  "kernelspec": {
   "display_name": "Python 3",
   "language": "python",
   "name": "python3"
  },
  "language_info": {
   "codemirror_mode": {
    "name": "ipython",
    "version": 3
   },
   "file_extension": ".py",
   "mimetype": "text/x-python",
   "name": "python",
   "nbconvert_exporter": "python",
   "pygments_lexer": "ipython3",
   "version": "3.11.13"
  },
  "papermill": {
   "default_parameters": {},
   "duration": 6.60883,
   "end_time": "2025-08-06T16:34:06.155910",
   "environment_variables": {},
   "exception": null,
   "input_path": "__notebook__.ipynb",
   "output_path": "__notebook__.ipynb",
   "parameters": {},
   "start_time": "2025-08-06T16:33:59.547080",
   "version": "2.6.0"
  }
 },
 "nbformat": 4,
 "nbformat_minor": 5
}
