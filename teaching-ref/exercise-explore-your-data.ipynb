{
 "cells": [
  {
   "cell_type": "markdown",
   "id": "af591208",
   "metadata": {
    "papermill": {
     "duration": 0.003089,
     "end_time": "2025-08-06T16:35:36.731495",
     "exception": false,
     "start_time": "2025-08-06T16:35:36.728406",
     "status": "completed"
    },
    "tags": []
   },
   "source": [
    "**[Machine Learning Course Home Page](https://www.kaggle.com/learn/machine-learning)**\n",
    "\n",
    "---\n"
   ]
  },
  {
   "cell_type": "markdown",
   "id": "70c963df",
   "metadata": {
    "papermill": {
     "duration": 0.002196,
     "end_time": "2025-08-06T16:35:36.736635",
     "exception": false,
     "start_time": "2025-08-06T16:35:36.734439",
     "status": "completed"
    },
    "tags": []
   },
   "source": [
    "This exercise will test your ability to read a data file and understand statistics about the data.\n",
    "\n",
    "In later exercises, you will apply techniques to filter the data, build a machine learning model, and iteratively improve your model.\n",
    "\n",
    "The course examples use data from Melbourne. To ensure you can apply these techniques on your own, you will have to apply them to a new dataset (with house prices from Iowa).\n",
    "\n",
    "The exercises use a \"notebook\" coding environment.  In case you are unfamiliar with notebooks, we have a [90-second intro video](https://www.youtube.com/watch?v=4C2qMnaIKL4).\n",
    "\n",
    "# Exercises\n",
    "\n",
    "Run the following cell to set up code-checking, which will verify your work as you go."
   ]
  },
  {
   "cell_type": "code",
   "execution_count": 1,
   "id": "a497b2f7",
   "metadata": {
    "execution": {
     "iopub.execute_input": "2025-08-06T16:35:36.742670Z",
     "iopub.status.busy": "2025-08-06T16:35:36.742324Z",
     "iopub.status.idle": "2025-08-06T16:35:38.691074Z",
     "shell.execute_reply": "2025-08-06T16:35:38.689997Z"
    },
    "papermill": {
     "duration": 1.953591,
     "end_time": "2025-08-06T16:35:38.692615",
     "exception": false,
     "start_time": "2025-08-06T16:35:36.739024",
     "status": "completed"
    },
    "tags": []
   },
   "outputs": [
    {
     "name": "stdout",
     "output_type": "stream",
     "text": [
      "Setup Complete\n"
     ]
    }
   ],
   "source": [
    "# Set up code checking\n",
    "from learntools.core import binder\n",
    "binder.bind(globals())\n",
    "from learntools.machine_learning.ex2 import *\n",
    "print(\"Setup Complete\")"
   ]
  },
  {
   "cell_type": "markdown",
   "id": "62415558",
   "metadata": {
    "papermill": {
     "duration": 0.002504,
     "end_time": "2025-08-06T16:35:38.698072",
     "exception": false,
     "start_time": "2025-08-06T16:35:38.695568",
     "status": "completed"
    },
    "tags": []
   },
   "source": [
    "## Step 1: Loading Data\n",
    "Read the Iowa data file into a Pandas DataFrame called `home_data`."
   ]
  },
  {
   "cell_type": "code",
   "execution_count": 2,
   "id": "f91a572e",
   "metadata": {
    "execution": {
     "iopub.execute_input": "2025-08-06T16:35:38.704602Z",
     "iopub.status.busy": "2025-08-06T16:35:38.704175Z",
     "iopub.status.idle": "2025-08-06T16:35:38.761011Z",
     "shell.execute_reply": "2025-08-06T16:35:38.759871Z"
    },
    "papermill": {
     "duration": 0.062041,
     "end_time": "2025-08-06T16:35:38.762631",
     "exception": false,
     "start_time": "2025-08-06T16:35:38.700590",
     "status": "completed"
    },
    "tags": []
   },
   "outputs": [
    {
     "data": {
      "application/javascript": [
       "parent.postMessage({\"jupyterEvent\": \"custom.exercise_interaction\", \"data\": {\"outcomeType\": 1, \"valueTowardsCompletion\": 0.5, \"interactionType\": 1, \"questionType\": 1, \"questionId\": \"1_LoadHomeData\", \"learnToolsVersion\": \"0.3.5\", \"failureMessage\": \"\", \"exceptionClass\": \"\", \"trace\": \"\"}}, \"*\")"
      ],
      "text/plain": [
       "<IPython.core.display.Javascript object>"
      ]
     },
     "metadata": {},
     "output_type": "display_data"
    },
    {
     "data": {
      "text/markdown": [
       "<span style=\"color:#33cc33\">Correct</span>"
      ],
      "text/plain": [
       "Correct"
      ]
     },
     "metadata": {},
     "output_type": "display_data"
    }
   ],
   "source": [
    "import pandas as pd\n",
    "\n",
    "# Path of the file to read\n",
    "iowa_file_path = '../input/home-data-for-ml-course/train.csv'\n",
    "\n",
    "# Fill in the line below to read the file into a variable home_data\n",
    "home_data = pd.read_csv(iowa_file_path)\n",
    "\n",
    "# Call line below with no argument to check that you've loaded the data correctly\n",
    "step_1.check()"
   ]
  },
  {
   "cell_type": "code",
   "execution_count": 3,
   "id": "36a221c6",
   "metadata": {
    "execution": {
     "iopub.execute_input": "2025-08-06T16:35:38.769619Z",
     "iopub.status.busy": "2025-08-06T16:35:38.769312Z",
     "iopub.status.idle": "2025-08-06T16:35:38.773498Z",
     "shell.execute_reply": "2025-08-06T16:35:38.772551Z"
    },
    "papermill": {
     "duration": 0.009429,
     "end_time": "2025-08-06T16:35:38.774950",
     "exception": false,
     "start_time": "2025-08-06T16:35:38.765521",
     "status": "completed"
    },
    "tags": []
   },
   "outputs": [],
   "source": [
    "# Lines below will give you a hint or solution code\n",
    "#step_1.hint()\n",
    "#step_1.solution()"
   ]
  },
  {
   "cell_type": "markdown",
   "id": "dca841da",
   "metadata": {
    "papermill": {
     "duration": 0.002426,
     "end_time": "2025-08-06T16:35:38.780272",
     "exception": false,
     "start_time": "2025-08-06T16:35:38.777846",
     "status": "completed"
    },
    "tags": []
   },
   "source": [
    "## Step 2: Review The Data\n",
    "Use the command you learned to view summary statistics of the data. Then fill in variables to answer the following questions"
   ]
  },
  {
   "cell_type": "code",
   "execution_count": 4,
   "id": "2a41eb3f",
   "metadata": {
    "collapsed": true,
    "execution": {
     "iopub.execute_input": "2025-08-06T16:35:38.786940Z",
     "iopub.status.busy": "2025-08-06T16:35:38.786512Z",
     "iopub.status.idle": "2025-08-06T16:35:38.792421Z",
     "shell.execute_reply": "2025-08-06T16:35:38.791360Z"
    },
    "jupyter": {
     "outputs_hidden": true
    },
    "papermill": {
     "duration": 0.011165,
     "end_time": "2025-08-06T16:35:38.794096",
     "exception": false,
     "start_time": "2025-08-06T16:35:38.782931",
     "status": "completed"
    },
    "tags": []
   },
   "outputs": [
    {
     "data": {
      "text/markdown": [],
      "text/plain": [
       "<learntools.core.constants.PlaceholderValue at 0x7e74b0247090>"
      ]
     },
     "execution_count": 4,
     "metadata": {},
     "output_type": "execute_result"
    }
   ],
   "source": [
    "# Print summary statistics in next line\n",
    "____"
   ]
  },
  {
   "cell_type": "code",
   "execution_count": 5,
   "id": "2bd152be",
   "metadata": {
    "execution": {
     "iopub.execute_input": "2025-08-06T16:35:38.801235Z",
     "iopub.status.busy": "2025-08-06T16:35:38.800923Z",
     "iopub.status.idle": "2025-08-06T16:35:38.808660Z",
     "shell.execute_reply": "2025-08-06T16:35:38.807775Z"
    },
    "papermill": {
     "duration": 0.01296,
     "end_time": "2025-08-06T16:35:38.810001",
     "exception": false,
     "start_time": "2025-08-06T16:35:38.797041",
     "status": "completed"
    },
    "tags": []
   },
   "outputs": [
    {
     "data": {
      "application/javascript": [
       "parent.postMessage({\"jupyterEvent\": \"custom.exercise_interaction\", \"data\": {\"outcomeType\": 4, \"interactionType\": 1, \"questionType\": 1, \"questionId\": \"2_HomeDescription\", \"learnToolsVersion\": \"0.3.5\", \"valueTowardsCompletion\": 0.0, \"failureMessage\": \"\", \"exceptionClass\": \"\", \"trace\": \"\"}}, \"*\")"
      ],
      "text/plain": [
       "<IPython.core.display.Javascript object>"
      ]
     },
     "metadata": {},
     "output_type": "display_data"
    },
    {
     "data": {
      "text/markdown": [
       "<span style=\"color:#ccaa33\">Check:</span> When you've updated the starter code, `check()` will tell you whether your code is correct. You need to update the code that creates variables `avg_lot_size`, `newest_home_age`"
      ],
      "text/plain": [
       "Check: When you've updated the starter code, `check()` will tell you whether your code is correct. You need to update the code that creates variables `avg_lot_size`, `newest_home_age`"
      ]
     },
     "metadata": {},
     "output_type": "display_data"
    }
   ],
   "source": [
    "# What is the average lot size (rounded to nearest integer)?\n",
    "avg_lot_size = ____\n",
    "\n",
    "# As of today, how old is the newest home (current year - the date in which it was built)\n",
    "newest_home_age = ____\n",
    "\n",
    "# Checks your answers\n",
    "step_2.check()"
   ]
  },
  {
   "cell_type": "code",
   "execution_count": 6,
   "id": "912f79a8",
   "metadata": {
    "collapsed": true,
    "execution": {
     "iopub.execute_input": "2025-08-06T16:35:38.817720Z",
     "iopub.status.busy": "2025-08-06T16:35:38.816952Z",
     "iopub.status.idle": "2025-08-06T16:35:38.821121Z",
     "shell.execute_reply": "2025-08-06T16:35:38.820154Z"
    },
    "jupyter": {
     "outputs_hidden": true
    },
    "papermill": {
     "duration": 0.009549,
     "end_time": "2025-08-06T16:35:38.822582",
     "exception": false,
     "start_time": "2025-08-06T16:35:38.813033",
     "status": "completed"
    },
    "tags": []
   },
   "outputs": [],
   "source": [
    "#step_2.hint()\n",
    "#step_2.solution()"
   ]
  },
  {
   "cell_type": "markdown",
   "id": "3367110e",
   "metadata": {
    "papermill": {
     "duration": 0.00276,
     "end_time": "2025-08-06T16:35:38.828503",
     "exception": false,
     "start_time": "2025-08-06T16:35:38.825743",
     "status": "completed"
    },
    "tags": []
   },
   "source": [
    "## Think About Your Data\n",
    "\n",
    "The newest house in your data isn't that new.  A few potential explanations for this:\n",
    "1. They haven't built new houses where this data was collected.\n",
    "1. The data was collected a long time ago. Houses built after the data publication wouldn't show up.\n",
    "\n",
    "If the reason is explanation #1 above, does that affect your trust in the model you build with this data? What about if it is reason #2?\n",
    "\n",
    "How could you dig into the data to see which explanation is more plausible?\n",
    "\n",
    "Check out this **[discussion thread](https://www.kaggle.com/learn-forum/60581)** to see what others think or to add your ideas.\n",
    "\n",
    "# Keep Going\n",
    "\n",
    "You are ready for **[Your First Machine Learning Model](https://www.kaggle.com/dansbecker/your-first-machine-learning-model).**\n"
   ]
  },
  {
   "cell_type": "markdown",
   "id": "accf664c",
   "metadata": {
    "papermill": {
     "duration": 0.002691,
     "end_time": "2025-08-06T16:35:38.834236",
     "exception": false,
     "start_time": "2025-08-06T16:35:38.831545",
     "status": "completed"
    },
    "tags": []
   },
   "source": [
    "---\n",
    "**[Machine Learning Course Home Page](https://www.kaggle.com/learn/machine-learning)**\n",
    "\n"
   ]
  }
 ],
 "metadata": {
  "kaggle": {
   "accelerator": "none",
   "dataSources": [
    {
     "datasetId": 2709,
     "sourceId": 38454,
     "sourceType": "datasetVersion"
    },
    {
     "datasetId": 108980,
     "sourceId": 260251,
     "sourceType": "datasetVersion"
    }
   ],
   "isGpuEnabled": false,
   "isInternetEnabled": false,
   "language": "python",
   "sourceType": "notebook"
  },
  "kernelspec": {
   "display_name": "Python 3",
   "language": "python",
   "name": "python3"
  },
  "language_info": {
   "codemirror_mode": {
    "name": "ipython",
    "version": 3
   },
   "file_extension": ".py",
   "mimetype": "text/x-python",
   "name": "python",
   "nbconvert_exporter": "python",
   "pygments_lexer": "ipython3",
   "version": "3.11.13"
  },
  "papermill": {
   "default_parameters": {},
   "duration": 7.717812,
   "end_time": "2025-08-06T16:35:39.457387",
   "environment_variables": {},
   "exception": null,
   "input_path": "__notebook__.ipynb",
   "output_path": "__notebook__.ipynb",
   "parameters": {},
   "start_time": "2025-08-06T16:35:31.739575",
   "version": "2.6.0"
  }
 },
 "nbformat": 4,
 "nbformat_minor": 5
}
